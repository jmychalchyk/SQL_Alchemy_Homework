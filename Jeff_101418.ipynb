{
 "cells": [
  {
   "cell_type": "code",
   "execution_count": 1,
   "metadata": {},
   "outputs": [],
   "source": [
    "%matplotlib inline\n",
    "from matplotlib import style\n",
    "style.use('fivethirtyeight')\n",
    "import matplotlib.pyplot as plt"
   ]
  },
  {
   "cell_type": "code",
   "execution_count": 2,
   "metadata": {},
   "outputs": [],
   "source": [
    "import numpy as np\n",
    "import pandas as pd\n",
    "from pandas import Series"
   ]
  },
  {
   "cell_type": "code",
   "execution_count": 3,
   "metadata": {},
   "outputs": [],
   "source": [
    "import datetime as dt"
   ]
  },
  {
   "cell_type": "markdown",
   "metadata": {},
   "source": [
    "# Reflect Tables into SQLAlchemy ORM"
   ]
  },
  {
   "cell_type": "code",
   "execution_count": 4,
   "metadata": {},
   "outputs": [],
   "source": [
    "# Python SQL toolkit and Object Relational Mapper\n",
    "import sqlalchemy\n",
    "from sqlalchemy.ext.automap import automap_base\n",
    "from sqlalchemy.orm import Session\n",
    "from sqlalchemy import create_engine, func, inspect"
   ]
  },
  {
   "cell_type": "code",
   "execution_count": 5,
   "metadata": {},
   "outputs": [],
   "source": [
    "engine = create_engine(\"sqlite:///Resources/hawaii.sqlite\")"
   ]
  },
  {
   "cell_type": "code",
   "execution_count": 6,
   "metadata": {},
   "outputs": [],
   "source": [
    "# reflect an existing database into a new model\n",
    "Base = automap_base()\n",
    "# reflect the tables\n",
    "Base.prepare(engine, reflect=True)"
   ]
  },
  {
   "cell_type": "code",
   "execution_count": 7,
   "metadata": {},
   "outputs": [
    {
     "data": {
      "text/plain": [
       "['measurement', 'station']"
      ]
     },
     "execution_count": 7,
     "metadata": {},
     "output_type": "execute_result"
    }
   ],
   "source": [
    "# We can view all of the classes that automap found\n",
    "inspector = inspect(engine)\n",
    "inspector.get_table_names()"
   ]
  },
  {
   "cell_type": "code",
   "execution_count": 8,
   "metadata": {},
   "outputs": [],
   "source": [
    "# Save references to each table\n",
    "Mmt = Base.classes.measurement\n",
    "Stn = Base.classes.station"
   ]
  },
  {
   "cell_type": "code",
   "execution_count": 9,
   "metadata": {
    "scrolled": true
   },
   "outputs": [
    {
     "name": "stdout",
     "output_type": "stream",
     "text": [
      "id INTEGER\n",
      "station TEXT\n",
      "date TEXT\n",
      "prcp FLOAT\n",
      "tobs FLOAT\n"
     ]
    }
   ],
   "source": [
    "columns = inspector.get_columns('measurement')\n",
    "for c in columns:\n",
    "    print(c['name'], c[\"type\"])"
   ]
  },
  {
   "cell_type": "code",
   "execution_count": 10,
   "metadata": {},
   "outputs": [
    {
     "name": "stdout",
     "output_type": "stream",
     "text": [
      "id INTEGER\n",
      "station TEXT\n",
      "name TEXT\n",
      "latitude FLOAT\n",
      "longitude FLOAT\n",
      "elevation FLOAT\n"
     ]
    }
   ],
   "source": [
    "columns = inspector.get_columns('station')\n",
    "for c in columns:\n",
    "    print(c['name'], c[\"type\"])"
   ]
  },
  {
   "cell_type": "code",
   "execution_count": 11,
   "metadata": {},
   "outputs": [],
   "source": [
    "# Create our session (link) from Python to the DB\n",
    "session = Session(engine)"
   ]
  },
  {
   "cell_type": "markdown",
   "metadata": {},
   "source": [
    "# Exploratory Climate Analysis"
   ]
  },
  {
   "cell_type": "code",
   "execution_count": 12,
   "metadata": {},
   "outputs": [
    {
     "data": {
      "text/plain": [
       "('2017-08-23')"
      ]
     },
     "execution_count": 12,
     "metadata": {},
     "output_type": "execute_result"
    }
   ],
   "source": [
    "# Design a query to retrieve the last 12 months of precipitation data and plot the results\n",
    "\n",
    "maxdate = session.query(Mmt.date).order_by(Mmt.date.desc()).first()\n",
    "maxdate"
   ]
  },
  {
   "cell_type": "code",
   "execution_count": 13,
   "metadata": {},
   "outputs": [],
   "source": [
    "mindate = dt.date(2017, 8, 23) - dt.timedelta(days=365)"
   ]
  },
  {
   "cell_type": "code",
   "execution_count": 14,
   "metadata": {},
   "outputs": [],
   "source": [
    "sel = [Mmt.prcp,Mmt.date]\n",
    "Precip = session.query(*sel).filter(Mmt.date > mindate).all()\n",
    "\n",
    "df = pd.DataFrame(Precip, columns=[\"Precipitation\", \"Date\"])"
   ]
  },
  {
   "cell_type": "code",
   "execution_count": 15,
   "metadata": {},
   "outputs": [
    {
     "data": {
      "text/html": [
       "<div>\n",
       "<style scoped>\n",
       "    .dataframe tbody tr th:only-of-type {\n",
       "        vertical-align: middle;\n",
       "    }\n",
       "\n",
       "    .dataframe tbody tr th {\n",
       "        vertical-align: top;\n",
       "    }\n",
       "\n",
       "    .dataframe thead th {\n",
       "        text-align: right;\n",
       "    }\n",
       "</style>\n",
       "<table border=\"1\" class=\"dataframe\">\n",
       "  <thead>\n",
       "    <tr style=\"text-align: right;\">\n",
       "      <th></th>\n",
       "      <th>Precipitation</th>\n",
       "    </tr>\n",
       "    <tr>\n",
       "      <th>Date</th>\n",
       "      <th></th>\n",
       "    </tr>\n",
       "  </thead>\n",
       "  <tbody>\n",
       "    <tr>\n",
       "      <th>2016-08-24</th>\n",
       "      <td>0.08</td>\n",
       "    </tr>\n",
       "    <tr>\n",
       "      <th>2016-08-25</th>\n",
       "      <td>0.08</td>\n",
       "    </tr>\n",
       "    <tr>\n",
       "      <th>2016-08-26</th>\n",
       "      <td>0.00</td>\n",
       "    </tr>\n",
       "    <tr>\n",
       "      <th>2016-08-27</th>\n",
       "      <td>0.00</td>\n",
       "    </tr>\n",
       "    <tr>\n",
       "      <th>2016-08-28</th>\n",
       "      <td>0.01</td>\n",
       "    </tr>\n",
       "  </tbody>\n",
       "</table>\n",
       "</div>"
      ],
      "text/plain": [
       "            Precipitation\n",
       "Date                     \n",
       "2016-08-24           0.08\n",
       "2016-08-25           0.08\n",
       "2016-08-26           0.00\n",
       "2016-08-27           0.00\n",
       "2016-08-28           0.01"
      ]
     },
     "execution_count": 15,
     "metadata": {},
     "output_type": "execute_result"
    }
   ],
   "source": [
    "df = df.set_index(\"Date\")\n",
    "df.head()"
   ]
  },
  {
   "cell_type": "code",
   "execution_count": 16,
   "metadata": {},
   "outputs": [
    {
     "data": {
      "text/plain": [
       "<matplotlib.axes._subplots.AxesSubplot at 0x9b94fd0>"
      ]
     },
     "execution_count": 16,
     "metadata": {},
     "output_type": "execute_result"
    },
    {
     "data": {
      "image/png": "[encoded data removed]",
      "text/plain": [
       "<Figure size 432x288 with 1 Axes>"
      ]
     },
     "metadata": {},
     "output_type": "display_data"
    }
   ],
   "source": [
    "df.plot()"
   ]
  },
  {
   "cell_type": "code",
   "execution_count": 17,
   "metadata": {},
   "outputs": [
    {
     "data": {
      "text/html": [
       "<div>\n",
       "<style scoped>\n",
       "    .dataframe tbody tr th:only-of-type {\n",
       "        vertical-align: middle;\n",
       "    }\n",
       "\n",
       "    .dataframe tbody tr th {\n",
       "        vertical-align: top;\n",
       "    }\n",
       "\n",
       "    .dataframe thead th {\n",
       "        text-align: right;\n",
       "    }\n",
       "</style>\n",
       "<table border=\"1\" class=\"dataframe\">\n",
       "  <thead>\n",
       "    <tr style=\"text-align: right;\">\n",
       "      <th></th>\n",
       "      <th>Precipitation</th>\n",
       "    </tr>\n",
       "  </thead>\n",
       "  <tbody>\n",
       "    <tr>\n",
       "      <th>count</th>\n",
       "      <td>2015.000000</td>\n",
       "    </tr>\n",
       "    <tr>\n",
       "      <th>mean</th>\n",
       "      <td>0.176462</td>\n",
       "    </tr>\n",
       "    <tr>\n",
       "      <th>std</th>\n",
       "      <td>0.460288</td>\n",
       "    </tr>\n",
       "    <tr>\n",
       "      <th>min</th>\n",
       "      <td>0.000000</td>\n",
       "    </tr>\n",
       "    <tr>\n",
       "      <th>25%</th>\n",
       "      <td>0.000000</td>\n",
       "    </tr>\n",
       "    <tr>\n",
       "      <th>50%</th>\n",
       "      <td>0.020000</td>\n",
       "    </tr>\n",
       "    <tr>\n",
       "      <th>75%</th>\n",
       "      <td>0.130000</td>\n",
       "    </tr>\n",
       "    <tr>\n",
       "      <th>max</th>\n",
       "      <td>6.700000</td>\n",
       "    </tr>\n",
       "  </tbody>\n",
       "</table>\n",
       "</div>"
      ],
      "text/plain": [
       "       Precipitation\n",
       "count    2015.000000\n",
       "mean        0.176462\n",
       "std         0.460288\n",
       "min         0.000000\n",
       "25%         0.000000\n",
       "50%         0.020000\n",
       "75%         0.130000\n",
       "max         6.700000"
      ]
     },
     "execution_count": 17,
     "metadata": {},
     "output_type": "execute_result"
    }
   ],
   "source": [
    "# Use Pandas to calcualte the summary statistics for the precipitation data\n",
    "df.describe()"
   ]
  },
  {
   "cell_type": "code",
   "execution_count": 18,
   "metadata": {},
   "outputs": [
    {
     "data": {
      "text/plain": [
       "9"
      ]
     },
     "execution_count": 18,
     "metadata": {},
     "output_type": "execute_result"
    }
   ],
   "source": [
    "# Design a query to show how many stations are available in this dataset?\n",
    "station_count =session.query(Mmt.station,func.count(Mmt.station)).group_by(Mmt.station).order_by(func.count(Mmt.station).desc()).all()\n",
    "len(station_count)"
   ]
  },
  {
   "cell_type": "code",
   "execution_count": 19,
   "metadata": {},
   "outputs": [
    {
     "data": {
      "text/plain": [
       "[('USC00519281', 2772),\n",
       " ('USC00519397', 2724),\n",
       " ('USC00513117', 2709),\n",
       " ('USC00519523', 2669),\n",
       " ('USC00516128', 2612),\n",
       " ('USC00514830', 2202),\n",
       " ('USC00511918', 1979),\n",
       " ('USC00517948', 1372),\n",
       " ('USC00518838', 511)]"
      ]
     },
     "execution_count": 19,
     "metadata": {},
     "output_type": "execute_result"
    }
   ],
   "source": [
    "# What are the most active stations? (i.e. what stations have the most rows)?\n",
    "# List the stations and the counts in descending order.\n",
    "station_count"
   ]
  },
  {
   "cell_type": "code",
   "execution_count": 20,
   "metadata": {},
   "outputs": [
    {
     "data": {
      "text/plain": [
       "[(59.0, 83.0, 73.0968660968661)]"
      ]
     },
     "execution_count": 20,
     "metadata": {},
     "output_type": "execute_result"
    }
   ],
   "source": [
    "# Using the station id from the previous query, calculate the lowest temperature recorded, \n",
    "# highest temperature recorded, and average temperature most active station?\n",
    "sel = [func.min(Mmt.tobs),func.max(Mmt.tobs),func.avg(Mmt.tobs)]\n",
    "Temps = session.query(*sel).\\\n",
    "    filter(Mmt.date > mindate).\\\n",
    "    filter(Mmt.station == 'USC00519281').all()\n",
    "Temps\n",
    "\n"
   ]
  },
  {
   "cell_type": "code",
   "execution_count": 21,
   "metadata": {},
   "outputs": [
    {
     "data": {
      "text/plain": [
       "[('USC00519281', 2772),\n",
       " ('USC00519397', 2724),\n",
       " ('USC00513117', 2709),\n",
       " ('USC00519523', 2669),\n",
       " ('USC00516128', 2612),\n",
       " ('USC00514830', 2202),\n",
       " ('USC00511918', 1979),\n",
       " ('USC00517948', 1372),\n",
       " ('USC00518838', 511)]"
      ]
     },
     "execution_count": 21,
     "metadata": {},
     "output_type": "execute_result"
    }
   ],
   "source": [
    "# Choose the station with the highest number of temperature observations.\n",
    "# Query the last 12 months of temperature observation data for this station and plot the results as a histogram\n",
    "Temp_obs =session.query(Mmt.station,func.count(Mmt.tobs)).group_by(Mmt.station).order_by(func.count(Mmt.tobs).desc()).all()\n",
    "Temp_obs"
   ]
  },
  {
   "cell_type": "code",
   "execution_count": 22,
   "metadata": {},
   "outputs": [
    {
     "data": {
      "text/plain": [
       "[(59.0),\n",
       " (59.0),\n",
       " (59.0),\n",
       " (60.0),\n",
       " (60.0),\n",
       " (61.0),\n",
       " (62.0),\n",
       " (62.0),\n",
       " (62.0),\n",
       " (62.0),\n",
       " (62.0),\n",
       " (62.0),\n",
       " (63.0),\n",
       " (63.0),\n",
       " (63.0),\n",
       " (63.0),\n",
       " (64.0),\n",
       " (64.0),\n",
       " (64.0),\n",
       " (65.0),\n",
       " (65.0),\n",
       " (65.0),\n",
       " (65.0),\n",
       " (65.0),\n",
       " (65.0),\n",
       " (65.0),\n",
       " (66.0),\n",
       " (66.0),\n",
       " (66.0),\n",
       " (66.0),\n",
       " (66.0),\n",
       " (67.0),\n",
       " (67.0),\n",
       " (67.0),\n",
       " (67.0),\n",
       " (67.0),\n",
       " (67.0),\n",
       " (67.0),\n",
       " (67.0),\n",
       " (67.0),\n",
       " (67.0),\n",
       " (67.0),\n",
       " (67.0),\n",
       " (67.0),\n",
       " (67.0),\n",
       " (67.0),\n",
       " (68.0),\n",
       " (68.0),\n",
       " (68.0),\n",
       " (68.0),\n",
       " (68.0),\n",
       " (68.0),\n",
       " (68.0),\n",
       " (68.0),\n",
       " (68.0),\n",
       " (68.0),\n",
       " (68.0),\n",
       " (68.0),\n",
       " (69.0),\n",
       " (69.0),\n",
       " (69.0),\n",
       " (69.0),\n",
       " (69.0),\n",
       " (69.0),\n",
       " (69.0),\n",
       " (69.0),\n",
       " (69.0),\n",
       " (69.0),\n",
       " (69.0),\n",
       " (69.0),\n",
       " (69.0),\n",
       " (69.0),\n",
       " (69.0),\n",
       " (69.0),\n",
       " (69.0),\n",
       " (69.0),\n",
       " (69.0),\n",
       " (70.0),\n",
       " (70.0),\n",
       " (70.0),\n",
       " (70.0),\n",
       " (70.0),\n",
       " (70.0),\n",
       " (70.0),\n",
       " (70.0),\n",
       " (70.0),\n",
       " (70.0),\n",
       " (70.0),\n",
       " (70.0),\n",
       " (70.0),\n",
       " (70.0),\n",
       " (70.0),\n",
       " (70.0),\n",
       " (70.0),\n",
       " (70.0),\n",
       " (70.0),\n",
       " (70.0),\n",
       " (70.0),\n",
       " (70.0),\n",
       " (71.0),\n",
       " (71.0),\n",
       " (71.0),\n",
       " (71.0),\n",
       " (71.0),\n",
       " (71.0),\n",
       " (71.0),\n",
       " (71.0),\n",
       " (71.0),\n",
       " (71.0),\n",
       " (71.0),\n",
       " (71.0),\n",
       " (71.0),\n",
       " (71.0),\n",
       " (71.0),\n",
       " (71.0),\n",
       " (71.0),\n",
       " (71.0),\n",
       " (72.0),\n",
       " (72.0),\n",
       " (72.0),\n",
       " (72.0),\n",
       " (72.0),\n",
       " (72.0),\n",
       " (72.0),\n",
       " (72.0),\n",
       " (72.0),\n",
       " (72.0),\n",
       " (72.0),\n",
       " (72.0),\n",
       " (72.0),\n",
       " (72.0),\n",
       " (72.0),\n",
       " (72.0),\n",
       " (72.0),\n",
       " (72.0),\n",
       " (72.0),\n",
       " (72.0),\n",
       " (72.0),\n",
       " (72.0),\n",
       " (73.0),\n",
       " (73.0),\n",
       " (73.0),\n",
       " (73.0),\n",
       " (73.0),\n",
       " (73.0),\n",
       " (73.0),\n",
       " (73.0),\n",
       " (73.0),\n",
       " (73.0),\n",
       " (73.0),\n",
       " (73.0),\n",
       " (73.0),\n",
       " (73.0),\n",
       " (73.0),\n",
       " (73.0),\n",
       " (73.0),\n",
       " (73.0),\n",
       " (74.0),\n",
       " (74.0),\n",
       " (74.0),\n",
       " (74.0),\n",
       " (74.0),\n",
       " (74.0),\n",
       " (74.0),\n",
       " (74.0),\n",
       " (74.0),\n",
       " (74.0),\n",
       " (74.0),\n",
       " (74.0),\n",
       " (74.0),\n",
       " (74.0),\n",
       " (74.0),\n",
       " (74.0),\n",
       " (74.0),\n",
       " (74.0),\n",
       " (74.0),\n",
       " (74.0),\n",
       " (74.0),\n",
       " (74.0),\n",
       " (74.0),\n",
       " (74.0),\n",
       " (74.0),\n",
       " (74.0),\n",
       " (74.0),\n",
       " (74.0),\n",
       " (74.0),\n",
       " (74.0),\n",
       " (74.0),\n",
       " (74.0),\n",
       " (74.0),\n",
       " (74.0),\n",
       " (74.0),\n",
       " (74.0),\n",
       " (74.0),\n",
       " (74.0),\n",
       " (74.0),\n",
       " (75.0),\n",
       " (75.0),\n",
       " (75.0),\n",
       " (75.0),\n",
       " (75.0),\n",
       " (75.0),\n",
       " (75.0),\n",
       " (75.0),\n",
       " (75.0),\n",
       " (75.0),\n",
       " (75.0),\n",
       " (75.0),\n",
       " (75.0),\n",
       " (75.0),\n",
       " (75.0),\n",
       " (75.0),\n",
       " (75.0),\n",
       " (75.0),\n",
       " (75.0),\n",
       " (75.0),\n",
       " (75.0),\n",
       " (75.0),\n",
       " (75.0),\n",
       " (75.0),\n",
       " (75.0),\n",
       " (75.0),\n",
       " (75.0),\n",
       " (75.0),\n",
       " (75.0),\n",
       " (75.0),\n",
       " (75.0),\n",
       " (75.0),\n",
       " (75.0),\n",
       " (76.0),\n",
       " (76.0),\n",
       " (76.0),\n",
       " (76.0),\n",
       " (76.0),\n",
       " (76.0),\n",
       " (76.0),\n",
       " (76.0),\n",
       " (76.0),\n",
       " (76.0),\n",
       " (76.0),\n",
       " (76.0),\n",
       " (76.0),\n",
       " (76.0),\n",
       " (76.0),\n",
       " (76.0),\n",
       " (76.0),\n",
       " (76.0),\n",
       " (76.0),\n",
       " (76.0),\n",
       " (76.0),\n",
       " (76.0),\n",
       " (76.0),\n",
       " (76.0),\n",
       " (76.0),\n",
       " (76.0),\n",
       " (76.0),\n",
       " (76.0),\n",
       " (76.0),\n",
       " (76.0),\n",
       " (76.0),\n",
       " (76.0),\n",
       " (76.0),\n",
       " (77.0),\n",
       " (77.0),\n",
       " (77.0),\n",
       " (77.0),\n",
       " (77.0),\n",
       " (77.0),\n",
       " (77.0),\n",
       " (77.0),\n",
       " (77.0),\n",
       " (77.0),\n",
       " (77.0),\n",
       " (77.0),\n",
       " (77.0),\n",
       " (77.0),\n",
       " (77.0),\n",
       " (77.0),\n",
       " (77.0),\n",
       " (77.0),\n",
       " (77.0),\n",
       " (77.0),\n",
       " (77.0),\n",
       " (77.0),\n",
       " (77.0),\n",
       " (77.0),\n",
       " (77.0),\n",
       " (77.0),\n",
       " (77.0),\n",
       " (77.0),\n",
       " (77.0),\n",
       " (77.0),\n",
       " (78.0),\n",
       " (78.0),\n",
       " (78.0),\n",
       " (78.0),\n",
       " (78.0),\n",
       " (78.0),\n",
       " (78.0),\n",
       " (78.0),\n",
       " (78.0),\n",
       " (78.0),\n",
       " (78.0),\n",
       " (78.0),\n",
       " (78.0),\n",
       " (78.0),\n",
       " (78.0),\n",
       " (78.0),\n",
       " (78.0),\n",
       " (78.0),\n",
       " (78.0),\n",
       " (78.0),\n",
       " (78.0),\n",
       " (78.0),\n",
       " (79.0),\n",
       " (79.0),\n",
       " (79.0),\n",
       " (79.0),\n",
       " (79.0),\n",
       " (79.0),\n",
       " (79.0),\n",
       " (79.0),\n",
       " (79.0),\n",
       " (79.0),\n",
       " (79.0),\n",
       " (79.0),\n",
       " (79.0),\n",
       " (79.0),\n",
       " (79.0),\n",
       " (79.0),\n",
       " (79.0),\n",
       " (79.0),\n",
       " (80.0),\n",
       " (80.0),\n",
       " (80.0),\n",
       " (80.0),\n",
       " (80.0),\n",
       " (80.0),\n",
       " (80.0),\n",
       " (80.0),\n",
       " (80.0),\n",
       " (80.0),\n",
       " (80.0),\n",
       " (81.0),\n",
       " (81.0),\n",
       " (81.0),\n",
       " (81.0),\n",
       " (82.0),\n",
       " (82.0),\n",
       " (82.0),\n",
       " (83.0)]"
      ]
     },
     "execution_count": 22,
     "metadata": {},
     "output_type": "execute_result"
    }
   ],
   "source": [
    "Temps2 = session.query(Mmt.tobs).\\\n",
    "    filter(Mmt.date > mindate).\\\n",
    "    filter(Mmt.station == 'USC00519281').order_by(Mmt.tobs).all()\n",
    "Temps2"
   ]
  },
  {
   "cell_type": "code",
   "execution_count": 23,
   "metadata": {},
   "outputs": [
    {
     "data": {
      "text/plain": [
       "[59.0,\n",
       " 59.0,\n",
       " 59.0,\n",
       " 60.0,\n",
       " 60.0,\n",
       " 61.0,\n",
       " 62.0,\n",
       " 62.0,\n",
       " 62.0,\n",
       " 62.0,\n",
       " 62.0,\n",
       " 62.0,\n",
       " 63.0,\n",
       " 63.0,\n",
       " 63.0,\n",
       " 63.0,\n",
       " 64.0,\n",
       " 64.0,\n",
       " 64.0,\n",
       " 65.0,\n",
       " 65.0,\n",
       " 65.0,\n",
       " 65.0,\n",
       " 65.0,\n",
       " 65.0,\n",
       " 65.0,\n",
       " 66.0,\n",
       " 66.0,\n",
       " 66.0,\n",
       " 66.0,\n",
       " 66.0,\n",
       " 67.0,\n",
       " 67.0,\n",
       " 67.0,\n",
       " 67.0,\n",
       " 67.0,\n",
       " 67.0,\n",
       " 67.0,\n",
       " 67.0,\n",
       " 67.0,\n",
       " 67.0,\n",
       " 67.0,\n",
       " 67.0,\n",
       " 67.0,\n",
       " 67.0,\n",
       " 67.0,\n",
       " 68.0,\n",
       " 68.0,\n",
       " 68.0,\n",
       " 68.0,\n",
       " 68.0,\n",
       " 68.0,\n",
       " 68.0,\n",
       " 68.0,\n",
       " 68.0,\n",
       " 68.0,\n",
       " 68.0,\n",
       " 68.0,\n",
       " 69.0,\n",
       " 69.0,\n",
       " 69.0,\n",
       " 69.0,\n",
       " 69.0,\n",
       " 69.0,\n",
       " 69.0,\n",
       " 69.0,\n",
       " 69.0,\n",
       " 69.0,\n",
       " 69.0,\n",
       " 69.0,\n",
       " 69.0,\n",
       " 69.0,\n",
       " 69.0,\n",
       " 69.0,\n",
       " 69.0,\n",
       " 69.0,\n",
       " 69.0,\n",
       " 70.0,\n",
       " 70.0,\n",
       " 70.0,\n",
       " 70.0,\n",
       " 70.0,\n",
       " 70.0,\n",
       " 70.0,\n",
       " 70.0,\n",
       " 70.0,\n",
       " 70.0,\n",
       " 70.0,\n",
       " 70.0,\n",
       " 70.0,\n",
       " 70.0,\n",
       " 70.0,\n",
       " 70.0,\n",
       " 70.0,\n",
       " 70.0,\n",
       " 70.0,\n",
       " 70.0,\n",
       " 70.0,\n",
       " 70.0,\n",
       " 71.0,\n",
       " 71.0,\n",
       " 71.0,\n",
       " 71.0,\n",
       " 71.0,\n",
       " 71.0,\n",
       " 71.0,\n",
       " 71.0,\n",
       " 71.0,\n",
       " 71.0,\n",
       " 71.0,\n",
       " 71.0,\n",
       " 71.0,\n",
       " 71.0,\n",
       " 71.0,\n",
       " 71.0,\n",
       " 71.0,\n",
       " 71.0,\n",
       " 72.0,\n",
       " 72.0,\n",
       " 72.0,\n",
       " 72.0,\n",
       " 72.0,\n",
       " 72.0,\n",
       " 72.0,\n",
       " 72.0,\n",
       " 72.0,\n",
       " 72.0,\n",
       " 72.0,\n",
       " 72.0,\n",
       " 72.0,\n",
       " 72.0,\n",
       " 72.0,\n",
       " 72.0,\n",
       " 72.0,\n",
       " 72.0,\n",
       " 72.0,\n",
       " 72.0,\n",
       " 72.0,\n",
       " 72.0,\n",
       " 73.0,\n",
       " 73.0,\n",
       " 73.0,\n",
       " 73.0,\n",
       " 73.0,\n",
       " 73.0,\n",
       " 73.0,\n",
       " 73.0,\n",
       " 73.0,\n",
       " 73.0,\n",
       " 73.0,\n",
       " 73.0,\n",
       " 73.0,\n",
       " 73.0,\n",
       " 73.0,\n",
       " 73.0,\n",
       " 73.0,\n",
       " 73.0,\n",
       " 74.0,\n",
       " 74.0,\n",
       " 74.0,\n",
       " 74.0,\n",
       " 74.0,\n",
       " 74.0,\n",
       " 74.0,\n",
       " 74.0,\n",
       " 74.0,\n",
       " 74.0,\n",
       " 74.0,\n",
       " 74.0,\n",
       " 74.0,\n",
       " 74.0,\n",
       " 74.0,\n",
       " 74.0,\n",
       " 74.0,\n",
       " 74.0,\n",
       " 74.0,\n",
       " 74.0,\n",
       " 74.0,\n",
       " 74.0,\n",
       " 74.0,\n",
       " 74.0,\n",
       " 74.0,\n",
       " 74.0,\n",
       " 74.0,\n",
       " 74.0,\n",
       " 74.0,\n",
       " 74.0,\n",
       " 74.0,\n",
       " 74.0,\n",
       " 74.0,\n",
       " 74.0,\n",
       " 74.0,\n",
       " 74.0,\n",
       " 74.0,\n",
       " 74.0,\n",
       " 74.0,\n",
       " 75.0,\n",
       " 75.0,\n",
       " 75.0,\n",
       " 75.0,\n",
       " 75.0,\n",
       " 75.0,\n",
       " 75.0,\n",
       " 75.0,\n",
       " 75.0,\n",
       " 75.0,\n",
       " 75.0,\n",
       " 75.0,\n",
       " 75.0,\n",
       " 75.0,\n",
       " 75.0,\n",
       " 75.0,\n",
       " 75.0,\n",
       " 75.0,\n",
       " 75.0,\n",
       " 75.0,\n",
       " 75.0,\n",
       " 75.0,\n",
       " 75.0,\n",
       " 75.0,\n",
       " 75.0,\n",
       " 75.0,\n",
       " 75.0,\n",
       " 75.0,\n",
       " 75.0,\n",
       " 75.0,\n",
       " 75.0,\n",
       " 75.0,\n",
       " 75.0,\n",
       " 76.0,\n",
       " 76.0,\n",
       " 76.0,\n",
       " 76.0,\n",
       " 76.0,\n",
       " 76.0,\n",
       " 76.0,\n",
       " 76.0,\n",
       " 76.0,\n",
       " 76.0,\n",
       " 76.0,\n",
       " 76.0,\n",
       " 76.0,\n",
       " 76.0,\n",
       " 76.0,\n",
       " 76.0,\n",
       " 76.0,\n",
       " 76.0,\n",
       " 76.0,\n",
       " 76.0,\n",
       " 76.0,\n",
       " 76.0,\n",
       " 76.0,\n",
       " 76.0,\n",
       " 76.0,\n",
       " 76.0,\n",
       " 76.0,\n",
       " 76.0,\n",
       " 76.0,\n",
       " 76.0,\n",
       " 76.0,\n",
       " 76.0,\n",
       " 76.0,\n",
       " 77.0,\n",
       " 77.0,\n",
       " 77.0,\n",
       " 77.0,\n",
       " 77.0,\n",
       " 77.0,\n",
       " 77.0,\n",
       " 77.0,\n",
       " 77.0,\n",
       " 77.0,\n",
       " 77.0,\n",
       " 77.0,\n",
       " 77.0,\n",
       " 77.0,\n",
       " 77.0,\n",
       " 77.0,\n",
       " 77.0,\n",
       " 77.0,\n",
       " 77.0,\n",
       " 77.0,\n",
       " 77.0,\n",
       " 77.0,\n",
       " 77.0,\n",
       " 77.0,\n",
       " 77.0,\n",
       " 77.0,\n",
       " 77.0,\n",
       " 77.0,\n",
       " 77.0,\n",
       " 77.0,\n",
       " 78.0,\n",
       " 78.0,\n",
       " 78.0,\n",
       " 78.0,\n",
       " 78.0,\n",
       " 78.0,\n",
       " 78.0,\n",
       " 78.0,\n",
       " 78.0,\n",
       " 78.0,\n",
       " 78.0,\n",
       " 78.0,\n",
       " 78.0,\n",
       " 78.0,\n",
       " 78.0,\n",
       " 78.0,\n",
       " 78.0,\n",
       " 78.0,\n",
       " 78.0,\n",
       " 78.0,\n",
       " 78.0,\n",
       " 78.0,\n",
       " 79.0,\n",
       " 79.0,\n",
       " 79.0,\n",
       " 79.0,\n",
       " 79.0,\n",
       " 79.0,\n",
       " 79.0,\n",
       " 79.0,\n",
       " 79.0,\n",
       " 79.0,\n",
       " 79.0,\n",
       " 79.0,\n",
       " 79.0,\n",
       " 79.0,\n",
       " 79.0,\n",
       " 79.0,\n",
       " 79.0,\n",
       " 79.0,\n",
       " 80.0,\n",
       " 80.0,\n",
       " 80.0,\n",
       " 80.0,\n",
       " 80.0,\n",
       " 80.0,\n",
       " 80.0,\n",
       " 80.0,\n",
       " 80.0,\n",
       " 80.0,\n",
       " 80.0,\n",
       " 81.0,\n",
       " 81.0,\n",
       " 81.0,\n",
       " 81.0,\n",
       " 82.0,\n",
       " 82.0,\n",
       " 82.0]"
      ]
     },
     "execution_count": 23,
     "metadata": {},
     "output_type": "execute_result"
    }
   ],
   "source": [
    "Temps2lst=[]\n",
    "Temps2lst=[result[0] for result in Temps2[:-1]]\n",
    "Temps2lst"
   ]
  },
  {
   "cell_type": "code",
   "execution_count": 24,
   "metadata": {},
   "outputs": [
    {
     "data": {
      "text/plain": [
       "0    59.0\n",
       "1    59.0\n",
       "2    59.0\n",
       "3    60.0\n",
       "4    60.0\n",
       "dtype: float64"
      ]
     },
     "execution_count": 24,
     "metadata": {},
     "output_type": "execute_result"
    }
   ],
   "source": [
    "hist_data = pd.Series(Temps2lst)\n",
    "hist_data.head()"
   ]
  },
  {
   "cell_type": "code",
   "execution_count": 25,
   "metadata": {},
   "outputs": [
    {
     "data": {
      "image/png": "[encoded data removed]",
      "text/plain": [
       "<Figure size 432x288 with 1 Axes>"
      ]
     },
     "metadata": {},
     "output_type": "display_data"
    }
   ],
   "source": [
    "n_bins = 12\n",
    "plt.hist(hist_data, bins=n_bins, histtype='bar', label='tobs')\n",
    "plt.xlabel('Temperature')\n",
    "plt.ylabel('Frequency')\n",
    "plt.legend(prop={'size': 10})\n",
    "plt.show()"
   ]
  },
  {
   "cell_type": "markdown",
   "metadata": {},
   "source": [
    "![precipitation](Images/station-histogram.png)"
   ]
  },
  {
   "cell_type": "code",
   "execution_count": 26,
   "metadata": {},
   "outputs": [],
   "source": [
    "# This function called `calc_temps` will accept start date and end date in the format '%Y-%m-%d' \n",
    "# and return the minimum, average, and maximum temperatures for that range of dates\n",
    "    \n",
    "def calc_temps(start_date, end_date):\n",
    "\n",
    "    stdt = func.strftime(\"%Y-%m-%d\",start_date)\n",
    "    enddt = func.strftime(\"%Y-%m-%d\",end_date)  \n",
    "       \n",
    "    return session.query(func.min(Mmt.tobs), func.avg(Mmt.tobs), func.max(Mmt.tobs)).\\\n",
    "        filter(Mmt.date >= stdt).filter(Mmt.date <= enddt).all()\n"
   ]
  },
  {
   "cell_type": "code",
   "execution_count": 27,
   "metadata": {},
   "outputs": [
    {
     "name": "stdout",
     "output_type": "stream",
     "text": [
      "[(62.0, 69.57142857142857, 74.0)]\n"
     ]
    }
   ],
   "source": [
    "# Use your previous function `calc_temps` to calculate the tmin, tavg, and tmax \n",
    "# for your trip using the previous year's data for those same dates.\n",
    "print(calc_temps('2012-02-28', '2012-03-05'))\n"
   ]
  },
  {
   "cell_type": "code",
   "execution_count": 32,
   "metadata": {},
   "outputs": [],
   "source": [
    "# Plot the results from your previous query as a bar chart. \n",
    "# Use \"Trip Avg Temp\" as your Title\n",
    "# Use the average temperature for the y value\n",
    "# Use the peak-to-peak (tmax-tmin) value as the y error bar (yerr)\n",
    "chartdata2=calc_temps('2012-02-28', '2012-03-05')"
   ]
  },
  {
   "cell_type": "code",
   "execution_count": 56,
   "metadata": {},
   "outputs": [
    {
     "data": {
      "image/png": "[encoded data removed]",
      "text/plain": [
       "<Figure size 432x288 with 1 Axes>"
      ]
     },
     "metadata": {},
     "output_type": "display_data"
    }
   ],
   "source": [
    "fig, ax = plt.subplots()\n",
    "ax.bar('Temp',chartdata2[0][1],yerr=(chartdata2[0][2]-chartdata2[0][0]))\n",
    "ax.set_title('Trip Avg Temp')\n",
    "fig.tight_layout()\n",
    "plt.show()"
   ]
  },
  {
   "cell_type": "code",
   "execution_count": null,
   "metadata": {},
   "outputs": [],
   "source": [
    "# Calculate the rainfall per weather station for your trip dates using the previous year's matching dates.\n",
    "# Sort this in descending order by precipitation amount and list the station, name, latitude, longitude, and elevation\n",
    "sel2 = [Mmt.prcp,Mmt.date,stn.]\n",
    "Precip = session.query(*sel2).filter(Mmt.date > mindate).all()\n",
    "\n",
    "df = pd.DataFrame(Precip, columns=[\"Precipitation\", \"Date\"])\n"
   ]
  },
  {
   "cell_type": "markdown",
   "metadata": {},
   "source": [
    "## Optional Challenge Assignment"
   ]
  },
  {
   "cell_type": "code",
   "execution_count": null,
   "metadata": {},
   "outputs": [],
   "source": [
    "# Create a query that will calculate the daily normals \n",
    "# (i.e. the averages for tmin, tmax, and tavg for all historic data matching a specific month and day)\n",
    "\n",
    "def daily_normals(date):\n",
    "    \"\"\"Daily Normals.\n",
    "    \n",
    "    Args:\n",
    "        date (str): A date string in the format '%m-%d'\n",
    "        \n",
    "    Returns:\n",
    "        A list of tuples containing the daily normals, tmin, tavg, and tmax\n",
    "    \n",
    "    \"\"\"\n",
    "    \n",
    "    sel = [func.min(Measurement.tobs), func.avg(Measurement.tobs), func.max(Measurement.tobs)]\n",
    "    return session.query(*sel).filter(func.strftime(\"%m-%d\", Measurement.date) == date).all()\n",
    "    \n",
    "daily_normals(\"01-01\")"
   ]
  },
  {
   "cell_type": "code",
   "execution_count": null,
   "metadata": {},
   "outputs": [],
   "source": [
    "# calculate the daily normals for your trip\n",
    "# push each tuple of calculations into a list called `normals`\n",
    "\n",
    "# Set the start and end date of the trip\n",
    "\n",
    "# Use the start and end date to create a range of dates\n",
    "\n",
    "# Stip off the year and save a list of %m-%d strings\n",
    "\n",
    "# Loop through the list of %m-%d strings and calculate the normals for each date\n"
   ]
  },
  {
   "cell_type": "code",
   "execution_count": null,
   "metadata": {},
   "outputs": [],
   "source": [
    "# Load the previous query results into a Pandas DataFrame and add the `trip_dates` range as the `date` index\n"
   ]
  },
  {
   "cell_type": "code",
   "execution_count": null,
   "metadata": {},
   "outputs": [],
   "source": [
    "# Plot the daily normals as an area plot with `stacked=False`\n"
   ]
  }
 ],
 "metadata": {
  "kernel_info": {
   "name": "python3"
  },
  "kernelspec": {
   "display_name": "Python 3",
   "language": "python",
   "name": "python3"
  },
  "language_info": {
   "codemirror_mode": {
    "name": "ipython",
    "version": 3
   },
   "file_extension": ".py",
   "mimetype": "text/x-python",
   "name": "python",
   "nbconvert_exporter": "python",
   "pygments_lexer": "ipython3",
   "version": "3.6.5"
  },
  "nteract": {
   "version": "0.9.1"
  },
  "varInspector": {
   "cols": {
    "lenName": 16,
    "lenType": 16,
    "lenVar": 40
   },
   "kernels_config": {
    "python": {
     "delete_cmd_postfix": "",
     "delete_cmd_prefix": "del ",
     "library": "var_list.py",
     "varRefreshCmd": "print(var_dic_list())"
    },
    "r": {
     "delete_cmd_postfix": ") ",
     "delete_cmd_prefix": "rm(",
     "library": "var_list.r",
     "varRefreshCmd": "cat(var_dic_list()) "
    }
   },
   "types_to_exclude": [
    "module",
    "function",
    "builtin_function_or_method",
    "instance",
    "_Feature"
   ],
   "window_display": false
  }
 },
 "nbformat": 4,
 "nbformat_minor": 2
}
